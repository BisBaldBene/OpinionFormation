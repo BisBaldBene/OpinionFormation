{
 "cells": [
  {
   "cell_type": "markdown",
   "metadata": {},
   "source": [
    "Zieht sich die Parameterwerte aller Durchläufe in einen pandas dataframe"
   ]
  },
  {
   "cell_type": "code",
   "execution_count": 78,
   "metadata": {},
   "outputs": [
    {
     "name": "stdout",
     "output_type": "stream",
     "text": [
      "               0            1            2                     3\n",
      "0    Nodes: 1600   Edges: 800   phi: 0.001   Iterations: 395000 \n",
      "1    Nodes: 1600   Edges: 800   phi: 0.001   Iterations: 349500 \n",
      "2    Nodes: 1600   Edges: 800   phi: 0.001   Iterations: 326500 \n",
      "3    Nodes: 1600   Edges: 800   phi: 0.001   Iterations: 218000 \n",
      "4    Nodes: 1600   Edges: 800   phi: 0.001   Iterations: 480000 \n",
      "5    Nodes: 1600   Edges: 800   phi: 0.001   Iterations: 278000 \n",
      "6    Nodes: 1600   Edges: 800   phi: 0.001   Iterations: 546000 \n",
      "7    Nodes: 1600   Edges: 800   phi: 0.001   Iterations: 230000 \n",
      "8    Nodes: 1600   Edges: 800   phi: 0.001   Iterations: 512500 \n",
      "9    Nodes: 1600   Edges: 800   phi: 0.001   Iterations: 323000 \n",
      "10   Nodes: 1600   Edges: 800   phi: 0.001   Iterations: 629000 \n",
      "11   Nodes: 1600   Edges: 800   phi: 0.001   Iterations: 244500 \n",
      "12   Nodes: 1600   Edges: 800   phi: 0.001   Iterations: 321000 \n",
      "13   Nodes: 1600   Edges: 800   phi: 0.001   Iterations: 432500 \n",
      "14   Nodes: 1600   Edges: 800   phi: 0.001   Iterations: 424000 \n",
      "15   Nodes: 1600   Edges: 800   phi: 0.001   Iterations: 185500 \n",
      "16   Nodes: 1600   Edges: 800   phi: 0.001   Iterations: 259000 \n",
      "17   Nodes: 1600   Edges: 800   phi: 0.001   Iterations: 499000 \n",
      "18   Nodes: 1600   Edges: 800   phi: 0.001   Iterations: 313000 \n",
      "19   Nodes: 1600   Edges: 800   phi: 0.001   Iterations: 256500 \n",
      "20   Nodes: 1600   Edges: 800   phi: 0.001   Iterations: 746500 \n",
      "21   Nodes: 1600   Edges: 800   phi: 0.001   Iterations: 324000 \n",
      "22   Nodes: 1600   Edges: 800   phi: 0.001   Iterations: 383500 \n",
      "23   Nodes: 1600   Edges: 800   phi: 0.001   Iterations: 453000 \n",
      "24   Nodes: 1600   Edges: 800   phi: 0.001   Iterations: 472000 \n",
      "25   Nodes: 1600   Edges: 800   phi: 0.001   Iterations: 328000 \n",
      "26   Nodes: 1600   Edges: 800   phi: 0.001   Iterations: 430000 \n",
      "27   Nodes: 1600   Edges: 800   phi: 0.001   Iterations: 584000 \n",
      "28   Nodes: 1600   Edges: 800   phi: 0.001   Iterations: 271500 \n",
      "29   Nodes: 1600   Edges: 800   phi: 0.001   Iterations: 304000 \n",
      "..           ...          ...          ...                   ...\n",
      "970  Nodes: 1600   Edges: 800   phi: 0.001   Iterations: 442000 \n",
      "971  Nodes: 1600   Edges: 800   phi: 0.001   Iterations: 388000 \n",
      "972  Nodes: 1600   Edges: 800   phi: 0.001   Iterations: 460000 \n",
      "973  Nodes: 1600   Edges: 800   phi: 0.001   Iterations: 252500 \n",
      "974  Nodes: 1600   Edges: 800   phi: 0.001   Iterations: 284000 \n",
      "975  Nodes: 1600   Edges: 800   phi: 0.001   Iterations: 527500 \n",
      "976  Nodes: 1600   Edges: 800   phi: 0.001   Iterations: 278500 \n",
      "977  Nodes: 1600   Edges: 800   phi: 0.001   Iterations: 359500 \n",
      "978  Nodes: 1600   Edges: 800   phi: 0.001   Iterations: 533000 \n",
      "979  Nodes: 1600   Edges: 800   phi: 0.001   Iterations: 483500 \n",
      "980  Nodes: 1600   Edges: 800   phi: 0.001   Iterations: 597500 \n",
      "981  Nodes: 1600   Edges: 800   phi: 0.001   Iterations: 291500 \n",
      "982  Nodes: 1600   Edges: 800   phi: 0.001   Iterations: 423000 \n",
      "983  Nodes: 1600   Edges: 800   phi: 0.001   Iterations: 241000 \n",
      "984  Nodes: 1600   Edges: 800   phi: 0.001   Iterations: 426500 \n",
      "985  Nodes: 1600   Edges: 800   phi: 0.001   Iterations: 334000 \n",
      "986  Nodes: 1600   Edges: 800   phi: 0.001   Iterations: 438500 \n",
      "987  Nodes: 1600   Edges: 800   phi: 0.001   Iterations: 334500 \n",
      "988  Nodes: 1600   Edges: 800   phi: 0.001   Iterations: 354500 \n",
      "989  Nodes: 1600   Edges: 800   phi: 0.001   Iterations: 469500 \n",
      "990  Nodes: 1600   Edges: 800   phi: 0.001   Iterations: 307500 \n",
      "991  Nodes: 1600   Edges: 800   phi: 0.001   Iterations: 339000 \n",
      "992  Nodes: 1600   Edges: 800   phi: 0.001   Iterations: 326000 \n",
      "993  Nodes: 1600   Edges: 800   phi: 0.001   Iterations: 346500 \n",
      "994  Nodes: 1600   Edges: 800   phi: 0.001   Iterations: 212500 \n",
      "995  Nodes: 1600   Edges: 800   phi: 0.001   Iterations: 212500 \n",
      "996  Nodes: 1600   Edges: 800   phi: 0.001   Iterations: 765000 \n",
      "997  Nodes: 1600   Edges: 800   phi: 0.001   Iterations: 251000 \n",
      "998  Nodes: 1600   Edges: 800   phi: 0.001   Iterations: 369000 \n",
      "999  Nodes: 1600   Edges: 800   phi: 0.001   Iterations: 320000 \n",
      "\n",
      "[1000 rows x 4 columns]\n"
     ]
    }
   ],
   "source": [
    "import pandas as pd\n",
    "import glob\n",
    "\n",
    "path =r'./testdata' # use your path\n",
    "allFiles = glob.glob(path + \"/*.txt\")\n",
    "frame = pd.DataFrame()\n",
    "\n",
    "#will be converted to dataframe\n",
    "list_ = []\n",
    "\n",
    "#dict of style index in frame : (filename, index in file)\n",
    "findfile = {}\n",
    "\n",
    "#index for rows in frame\n",
    "curr_row = 0\n",
    "for file_ in allFiles:\n",
    "    orig_ind = 0\n",
    "    n = 3\n",
    "    num_lines = sum(1 for l in open(file_))\n",
    "    skip_idx = [x for x in range(1, num_lines) if x % n != 0]\n",
    "    df = pd.read_csv(file_,index_col=None, skiprows=skip_idx, header = None)\n",
    "    list_.append(df)\n",
    "    for i in range(curr_row, curr_row+len(df.index)):\n",
    "        findfile[i] = (file_, orig_ind)\n",
    "        orig_ind += 1\n",
    "    curr_row +=len(df.index)\n",
    "frame = pd.concat(list_, ignore_index=True)\n",
    "print(frame)"
   ]
  },
  {
   "cell_type": "code",
   "execution_count": null,
   "metadata": {},
   "outputs": [],
   "source": []
  },
  {
   "cell_type": "markdown",
   "metadata": {},
   "source": [
    "Funktion die für gegebenes NNodes, NEdges, phi den Index im Datenframe (der Parameterwerte) ausgibt"
   ]
  },
  {
   "cell_type": "code",
   "execution_count": 79,
   "metadata": {},
   "outputs": [],
   "source": [
    "import re\n",
    "\n",
    "def getIndex(NNodes, NEdges, phi):\n",
    "    lines = []\n",
    "    for j in range(frame.shape[0]): #all rows\n",
    "        getstr = frame[0][j]\n",
    "        if ([int(s) for s in getstr.split() if s.isdigit()][0] == NNodes):\n",
    "            getstr = frame[1][j]\n",
    "            if ([int(s) for s in getstr.split() if s.isdigit()][0] == NEdges):\n",
    "                getstr = frame[2][j]\n",
    "                if (float(re.findall(\"\\d+\\.\\d+\", getstr)[0]) == phi):\n",
    "                    lines.append(j)\n",
    "    return lines"
   ]
  },
  {
   "cell_type": "markdown",
   "metadata": {},
   "source": [
    "Funktion die für gegebenen Index des Dataframes (der Parameterwerte) den Meinungsvektor (OporComp = 0) oder den Komponentenvektor (OporComp = 1) aus der jeweiligen Datei liest"
   ]
  },
  {
   "cell_type": "code",
   "execution_count": 80,
   "metadata": {},
   "outputs": [],
   "source": [
    "#OporComp = 0 for OpinionVector, 1 for ConnectedComponents\n",
    "def getVector(frameIndex, OporComp):\n",
    "    filename = (findfile[frameIndex])[0]\n",
    "    fileindex = (findfile[frameIndex])[1]\n",
    "    fileline = (fileindex*3)+1\n",
    "    OpinionVector = pd.read_csv(filename, skiprows = fileline+OporComp, nrows = 1, header=None, delim_whitespace = True)\n",
    "    return OpinionVector"
   ]
  },
  {
   "cell_type": "code",
   "execution_count": null,
   "metadata": {},
   "outputs": [],
   "source": []
  },
  {
   "cell_type": "markdown",
   "metadata": {},
   "source": [
    "Funktion die für gegebenes NNodes, NEdges, phi einen Matplotlib subplot eines Plot der Größe x * y an index z erstellt"
   ]
  },
  {
   "cell_type": "code",
   "execution_count": 81,
   "metadata": {},
   "outputs": [],
   "source": [
    "from collections import Counter\n",
    "import matplotlib.pyplot as plt\n",
    "\n",
    "\n",
    "#ComponentSizes dependent on Phi\n",
    "def histogram(ithplot, axs, NNodes, phi):\n",
    "    hist = [0] * (NNodes+1)\n",
    "    lines = []\n",
    "    lines = getIndex(NNodes, NNodes/2, phi)\n",
    "    if (len(lines) == 0):\n",
    "        print(\"No Dataset found for NNodes = %d, phi = %.3f\" %(NNodes,  phi))\n",
    "        return\n",
    "    for i in range(len(lines)):\n",
    "        compvec=[NNodes] #empty array\n",
    "        compvec = getVector(lines[i],1) #getComponentsizevector\n",
    "        compvec = compvec.values.tolist()[0] #get list from dataframe\n",
    "        compdic = Counter(compvec) #get Dict of type (compent number) : size\n",
    "        comps = list(compdic.values()) #get list of size values\n",
    "        d = Counter(comps) #get Dict sizeofCompononent : appearance\n",
    "        for siz, app in d.items():\n",
    "            hist[siz] += app\n",
    "        hist[:] = [float(x) / NNodes for x in hist]\n",
    "    hist[:] = [float(x) / len(lines) for x in hist] #average over number of datasets\n",
    "    #print(hist)\n",
    "    #hist[:] = [float(x) / NNodes for x in hist] \n",
    "    axs = axs.flatten()\n",
    "    axs[ithplot].loglog(hist, 'o')\n",
    "    title = \"Phi: \" +str(float(phi)) + \" averaged over \" + str(len(lines))\n",
    "    axs[ithplot].set_title(title)\n",
    "    axs[ithplot].set_xlim(xmin=0, xmax=NNodes)\n",
    "    axs[ithplot].set_ylim(ymin = 0.00001, ymax=1.1)"
   ]
  },
  {
   "cell_type": "code",
   "execution_count": 84,
   "metadata": {
    "scrolled": false
   },
   "outputs": [
    {
     "name": "stdout",
     "output_type": "stream",
     "text": [
      "[0.0, 0.0003977509351560059, 5.379338478074046e-05, 2.0639461674960235e-05, 1.0631254640657044e-05, 1.0627736573792077e-05, 3.7523449713138586e-06, 2.5003918470769885e-06, 3.1269536135868075e-06, 6.257812503056529e-07, 6.261723635866165e-07, 4.882813454270735e-13, 1.2503908691406252e-06, 6.253908692934037e-07, 6.250002441407204e-07, 6.257812501529696e-07, 6.2578173828125e-07, 1.2503908694458963e-06, 6.25000000152588e-07, 2.441406250000373e-13, 9.542711079120635e-20, 6.250002441407204e-07, 6.250002444458008e-07, 6.250000000000956e-07, 1.5277874477207658e-16, 6.25e-07, 1.455192091271096e-32, 6.253908692932129e-07, 9.542707353830337e-20, 2.4414072042707357e-13, 3.9062500000000003e-10, 3.725291753653437e-26, 5.684341886080802e-39, 3.9086914062500005e-10, 9.54270362854004e-20, 4.882812499999999e-13, 6.25e-07, 1.3877793232213446e-48, 9.54270362854004e-20, 6.25390869140625e-07, 5.684341886080802e-39, 2.3297616280615332e-29, 6.25e-07, 2.2204460492503133e-45, 1.5258789062500002e-16, 3.3881317890172016e-58, 3.9062515258789057e-10, 1.526833176612854e-16, 6.25e-07, 3.5527136796678625e-42, 4.235164736271502e-61, 3.2311742677857575e-74, 3.552713678800501e-42, 2.117582368135751e-61, 1.751623080406022e-125, 3.0517578125000003e-16, 8.271806125530277e-68, 9.094947017729283e-36, 4.701977403289152e-103, 2.0194839173657905e-77, 2.2204460492503133e-45, 1.8367099231598246e-109, 9.495567745759805e-177, 1.198509146801204e-253, 8.271806125530277e-68, 2.4414062499999996e-13, 2.0880974297595287e-144, 2.3283064365386962e-29, 1.3177747429038167e-221, 0.0, 0.0, 0.0, 1.74406035046734e-282, 8.673617379884036e-52, 3.0681846143202257e-247, 0.0, 8.236092143148854e-225, 2.790496560747744e-279, 2.5489470578119247e-154, 3.7252902984619143e-26, 0.0, 0.0, 3.3881317890172016e-58, 0.0, 0.0, 1.4489086526122748e-189, 1.751623080406022e-125, 5.934729841099878e-180, 1.9176146348819262e-250, 0.0, 3.7092061506874237e-183, 0.0, 0.0, 1.2037062152420227e-96, 0.0, 0.0, 0.0, 0.0, 0.0, 9.094947017729283e-36, 0.0, 0.0, 0.0, 0.0, 0.0, 0.0, 0.0, 0.0, 2.802596928649635e-122, 0.0, 4.484155085839416e-119, 1.4551915228366853e-32, 3.889384548663216e-167, 0.0, 0.0, 0.0, 3.9062500000000003e-10, 0.0, 0.0, 0.0, 0.0, 0.0, 0.0, 0.0, 0.0, 0.0, 8.636168555094452e-209, 0.0, 1.0395409765644908e-301, 5.169878828456424e-71, 0.0, 0.0, 0.0, 0.0, 0.0, 1.9259299443872363e-93, 0.0, 0.0, 0.0, 0.0, 0.0, 0.0, 0.0, 0.0, 0.0, 0.0, 0.0, 0.0, 0.0, 0.0, 1.586213648e-314, 0.0, 0.0, 0.0, 0.0, 0.0, 0.0, 0.0, 0.0, 0.0, 0.0, 0.0, 0.0, 0.0, 0.0, 0.0, 0.0, 0.0, 0.0, 0.0, 0.0, 0.0, 0.0, 0.0, 0.0, 0.0, 0.0, 0.0, 0.0, 0.0, 0.0, 0.0, 0.0, 0.0, 0.0, 0.0, 0.0, 0.0, 0.0, 0.0, 0.0, 0.0, 0.0, 0.0, 0.0, 0.0, 0.0, 0.0, 0.0, 0.0, 0.0, 0.0, 0.0, 0.0, 0.0, 0.0, 0.0, 0.0, 0.0, 0.0, 0.0, 0.0, 0.0, 0.0, 0.0, 0.0, 0.0, 0.0, 0.0, 0.0, 0.0, 0.0, 0.0, 0.0, 0.0, 0.0, 0.0, 0.0, 0.0, 0.0, 0.0, 0.0, 0.0, 0.0, 0.0, 0.0, 0.0, 0.0, 0.0, 0.0, 0.0, 0.0, 0.0, 0.0, 0.0, 0.0, 0.0, 0.0, 0.0, 0.0, 0.0, 0.0, 0.0, 0.0, 0.0, 0.0, 0.0, 0.0, 0.0, 0.0, 0.0, 0.0, 0.0, 0.0, 0.0, 0.0, 0.0, 0.0, 0.0, 0.0, 0.0, 0.0, 0.0, 0.0, 0.0, 0.0, 0.0, 0.0, 0.0, 0.0, 0.0, 0.0, 0.0, 0.0, 0.0, 0.0, 0.0, 0.0, 0.0, 0.0, 0.0, 0.0, 0.0, 0.0, 0.0, 0.0, 0.0, 0.0, 0.0, 0.0, 0.0, 0.0, 0.0, 0.0, 0.0, 0.0, 0.0, 0.0, 0.0, 0.0, 0.0, 0.0, 0.0, 0.0, 0.0, 0.0, 0.0, 0.0, 0.0, 0.0, 0.0, 0.0, 0.0, 0.0, 0.0, 0.0, 0.0, 0.0, 0.0, 0.0, 0.0, 0.0, 0.0, 0.0, 0.0, 0.0, 0.0, 0.0, 0.0, 0.0, 0.0, 0.0, 0.0, 0.0, 0.0, 0.0, 0.0, 0.0, 0.0, 0.0, 0.0, 0.0, 0.0, 0.0, 0.0, 0.0, 0.0, 0.0, 0.0, 0.0, 0.0, 0.0, 0.0, 0.0, 0.0, 0.0, 0.0, 0.0, 0.0, 0.0, 0.0, 0.0, 0.0, 0.0, 0.0, 0.0, 0.0, 0.0, 0.0, 0.0, 0.0, 0.0, 0.0, 0.0, 0.0, 0.0, 0.0, 0.0, 0.0, 0.0, 0.0, 0.0, 0.0, 0.0, 0.0, 0.0, 0.0, 0.0, 0.0, 0.0, 0.0, 0.0, 0.0, 0.0, 0.0, 0.0, 0.0, 0.0, 0.0, 0.0, 0.0, 0.0, 0.0, 0.0, 0.0, 0.0, 0.0, 0.0, 0.0, 0.0, 0.0, 0.0, 0.0, 0.0, 0.0, 0.0, 0.0, 0.0, 0.0, 0.0, 0.0, 0.0, 0.0, 0.0, 0.0, 0.0, 0.0, 0.0, 0.0, 0.0, 0.0, 0.0, 0.0, 0.0, 0.0, 0.0, 0.0, 0.0, 0.0, 0.0, 0.0, 0.0, 0.0, 0.0, 0.0, 0.0, 0.0, 0.0, 0.0, 0.0, 0.0, 0.0, 0.0, 0.0, 0.0, 0.0, 0.0, 0.0, 0.0, 0.0, 0.0, 0.0, 0.0, 0.0, 0.0, 0.0, 0.0, 0.0, 0.0, 0.0, 0.0, 0.0, 0.0, 0.0, 0.0, 0.0, 0.0, 0.0, 0.0, 0.0, 0.0, 0.0, 0.0, 0.0, 0.0, 0.0, 0.0, 0.0, 0.0, 0.0, 0.0, 0.0, 0.0, 0.0, 0.0, 0.0, 0.0, 0.0, 0.0, 0.0, 0.0, 0.0, 0.0, 0.0, 0.0, 0.0, 0.0, 0.0, 0.0, 0.0, 0.0, 0.0, 0.0, 0.0, 0.0, 0.0, 0.0, 0.0, 0.0, 0.0, 0.0, 0.0, 0.0, 0.0, 0.0, 0.0, 0.0, 0.0, 0.0, 0.0, 0.0, 0.0, 0.0, 0.0, 0.0, 0.0, 0.0, 0.0, 0.0, 0.0, 0.0, 0.0, 0.0, 0.0, 0.0, 0.0, 0.0, 0.0, 0.0, 0.0, 0.0, 0.0, 0.0, 0.0, 0.0, 0.0, 0.0, 0.0, 0.0, 0.0, 0.0, 0.0, 0.0, 0.0, 0.0, 0.0, 0.0, 0.0, 0.0, 0.0, 0.0, 0.0, 0.0, 0.0, 0.0, 0.0, 0.0, 0.0, 0.0, 0.0, 0.0, 0.0, 0.0, 0.0, 0.0, 0.0, 0.0, 0.0, 0.0, 0.0, 0.0, 0.0, 0.0, 0.0, 0.0, 0.0, 0.0, 0.0, 0.0, 0.0, 0.0, 0.0, 0.0, 0.0, 0.0, 0.0, 0.0, 0.0, 0.0, 0.0, 0.0, 0.0, 0.0, 0.0, 0.0, 0.0, 0.0, 0.0, 0.0, 0.0, 0.0, 0.0, 0.0, 0.0, 0.0, 0.0, 0.0, 0.0, 0.0, 0.0, 0.0, 0.0, 0.0, 0.0, 0.0, 0.0, 0.0, 0.0, 0.0, 0.0, 0.0, 0.0, 0.0, 0.0, 0.0, 0.0, 0.0, 0.0, 0.0, 0.0, 0.0, 0.0, 0.0, 0.0, 0.0, 0.0, 0.0, 0.0, 0.0, 0.0, 0.0, 0.0, 0.0, 0.0, 0.0, 0.0, 0.0, 0.0, 0.0, 0.0, 0.0, 0.0, 0.0, 0.0, 0.0, 0.0, 0.0, 0.0, 0.0, 0.0, 0.0, 0.0, 0.0, 0.0, 0.0, 0.0, 0.0, 0.0, 0.0, 0.0, 0.0, 0.0, 0.0, 0.0, 0.0, 0.0, 0.0, 0.0, 0.0, 0.0, 0.0, 0.0, 0.0, 0.0, 0.0, 0.0, 0.0, 0.0, 0.0, 0.0, 0.0, 0.0, 0.0, 0.0, 0.0, 0.0, 0.0, 0.0, 0.0, 0.0, 0.0, 0.0, 0.0, 0.0, 0.0, 0.0, 0.0, 0.0, 0.0, 0.0, 0.0, 0.0, 0.0, 0.0, 0.0, 0.0, 0.0, 0.0, 0.0, 0.0, 0.0, 0.0, 0.0, 0.0, 0.0, 0.0, 0.0, 0.0, 0.0, 0.0, 0.0, 0.0, 0.0, 0.0, 0.0, 0.0, 0.0, 0.0, 0.0, 0.0, 0.0, 0.0, 0.0, 0.0, 0.0, 0.0, 0.0, 0.0, 0.0, 0.0, 0.0, 0.0, 0.0, 0.0, 0.0, 0.0, 0.0, 0.0, 0.0, 0.0, 0.0, 0.0, 0.0, 0.0, 0.0, 0.0, 0.0, 0.0, 0.0, 0.0, 0.0, 0.0, 0.0, 0.0, 0.0, 0.0, 0.0, 0.0, 0.0, 0.0, 0.0, 0.0, 0.0, 0.0, 0.0, 0.0, 0.0, 0.0, 0.0, 0.0, 0.0, 0.0, 0.0, 0.0, 0.0, 0.0, 0.0, 0.0, 0.0, 0.0, 0.0, 0.0, 0.0, 0.0, 0.0, 0.0, 0.0, 0.0, 0.0, 0.0, 0.0, 0.0, 0.0, 0.0, 0.0, 0.0, 0.0, 0.0, 0.0, 0.0, 0.0, 0.0, 0.0, 0.0, 0.0, 0.0, 0.0, 0.0, 0.0, 0.0, 0.0, 0.0, 0.0, 0.0, 0.0, 0.0, 0.0, 0.0, 0.0, 0.0, 0.0, 0.0, 0.0, 0.0, 0.0, 0.0, 0.0, 0.0, 0.0, 0.0, 0.0, 0.0, 0.0, 0.0, 0.0, 0.0, 0.0, 0.0, 0.0, 0.0, 0.0, 0.0, 0.0, 0.0, 0.0, 0.0, 0.0, 0.0, 0.0, 0.0, 0.0, 0.0, 0.0, 0.0, 0.0, 0.0, 0.0, 0.0, 0.0, 0.0, 0.0, 0.0, 0.0, 0.0, 0.0, 0.0, 0.0, 0.0, 0.0, 0.0, 0.0, 0.0, 0.0, 0.0, 0.0, 0.0, 0.0, 0.0, 0.0, 0.0, 0.0, 0.0, 0.0, 0.0, 0.0, 0.0, 0.0, 0.0, 0.0, 0.0, 0.0, 0.0, 0.0, 0.0, 0.0, 0.0, 0.0, 0.0, 0.0, 0.0, 0.0, 0.0, 0.0, 0.0, 0.0, 0.0, 0.0, 0.0, 0.0, 0.0, 0.0, 0.0, 0.0, 0.0, 0.0, 0.0, 0.0, 0.0, 0.0, 0.0, 0.0, 0.0, 0.0, 0.0, 0.0, 0.0, 0.0, 0.0, 0.0, 0.0, 0.0, 0.0, 0.0, 0.0, 0.0, 0.0, 0.0, 0.0, 0.0, 0.0, 0.0, 0.0, 0.0, 0.0, 0.0, 0.0, 0.0, 0.0, 0.0, 0.0, 0.0, 0.0, 0.0, 0.0, 0.0, 0.0, 0.0, 0.0, 0.0, 0.0, 0.0, 0.0, 0.0, 0.0, 0.0, 0.0, 0.0, 0.0, 0.0, 0.0, 0.0, 0.0, 0.0, 0.0, 0.0, 0.0, 0.0, 0.0, 0.0, 0.0, 0.0, 0.0, 0.0, 0.0, 0.0, 0.0, 0.0, 0.0, 0.0, 0.0, 0.0, 0.0, 0.0, 0.0, 0.0, 0.0, 0.0, 0.0, 0.0, 0.0, 0.0, 0.0, 0.0, 0.0, 0.0, 0.0, 0.0, 0.0, 0.0, 0.0, 0.0, 0.0, 0.0, 0.0, 0.0, 0.0, 0.0, 0.0, 0.0, 0.0, 0.0, 0.0, 0.0, 0.0, 0.0, 0.0, 0.0, 0.0, 0.0, 0.0, 0.0, 0.0, 0.0, 0.0, 0.0, 0.0, 0.0, 0.0, 0.0, 0.0, 0.0, 0.0, 0.0, 0.0, 0.0, 0.0, 0.0, 0.0, 0.0, 0.0, 0.0, 0.0, 0.0, 0.0, 0.0, 0.0, 0.0, 0.0, 0.0, 0.0, 0.0, 0.0, 0.0, 0.0, 0.0, 0.0, 0.0, 0.0, 0.0, 0.0, 0.0, 0.0, 0.0, 0.0, 0.0, 0.0, 0.0, 0.0, 0.0, 0.0, 0.0, 0.0, 0.0, 0.0, 0.0, 0.0, 0.0, 0.0, 0.0, 0.0, 0.0, 0.0, 0.0, 0.0, 0.0, 0.0, 0.0, 0.0, 0.0, 0.0, 0.0, 0.0, 0.0, 0.0, 0.0, 0.0, 0.0, 0.0, 0.0, 0.0, 0.0, 0.0, 0.0, 0.0, 0.0, 0.0, 0.0, 0.0, 0.0, 0.0, 0.0, 0.0, 0.0, 0.0, 0.0, 0.0, 0.0, 0.0, 0.0, 0.0, 0.0, 0.0, 0.0, 0.0, 0.0, 0.0, 0.0, 0.0, 0.0, 0.0, 0.0, 0.0, 0.0, 0.0, 0.0, 0.0, 0.0, 0.0, 0.0, 0.0, 0.0, 0.0, 0.0, 0.0, 0.0, 0.0, 0.0, 0.0, 0.0, 0.0, 0.0, 0.0, 0.0, 0.0, 0.0, 0.0, 0.0, 0.0, 0.0, 0.0, 0.0, 0.0, 0.0, 0.0, 0.0, 0.0, 0.0, 0.0, 0.0, 0.0, 0.0, 0.0, 0.0, 0.0, 0.0, 0.0, 0.0, 0.0, 0.0, 0.0, 0.0, 0.0, 0.0, 0.0, 0.0, 0.0, 0.0, 0.0, 0.0, 0.0, 0.0, 0.0, 0.0, 0.0, 0.0, 0.0, 0.0, 0.0, 0.0, 0.0, 0.0, 0.0, 0.0, 0.0, 0.0, 0.0, 0.0, 0.0, 0.0, 0.0, 0.0, 0.0, 0.0, 0.0, 0.0, 0.0, 0.0, 0.0, 0.0, 0.0, 0.0, 0.0, 0.0, 0.0, 0.0, 0.0, 0.0, 0.0, 0.0, 0.0, 0.0, 0.0, 0.0, 0.0, 0.0, 0.0, 0.0, 0.0, 0.0, 0.0, 0.0, 0.0, 0.0, 0.0, 0.0, 0.0, 0.0, 0.0, 0.0, 0.0, 0.0, 0.0, 0.0, 0.0, 0.0, 0.0, 0.0, 0.0, 0.0, 0.0, 0.0, 0.0, 0.0, 0.0, 0.0, 0.0, 0.0, 0.0, 0.0, 0.0, 0.0, 0.0, 0.0, 0.0, 0.0, 0.0, 0.0, 0.0, 0.0, 0.0, 0.0, 0.0, 0.0, 0.0, 0.0, 0.0, 0.0, 0.0, 0.0, 0.0, 0.0, 0.0, 0.0, 0.0, 0.0, 0.0, 0.0, 0.0, 0.0, 0.0, 0.0, 0.0, 0.0, 0.0, 0.0, 0.0, 0.0, 0.0, 0.0, 0.0, 0.0, 0.0, 0.0, 0.0, 0.0, 0.0, 0.0, 0.0, 0.0, 0.0, 0.0, 0.0, 0.0, 0.0, 0.0, 0.0, 0.0, 0.0, 0.0, 0.0, 0.0, 0.0, 0.0, 0.0, 0.0, 0.0, 0.0, 0.0, 0.0, 0.0, 0.0, 0.0, 0.0, 0.0, 0.0, 0.0, 0.0, 0.0, 0.0, 0.0, 0.0, 0.0, 0.0, 0.0, 0.0, 0.0, 0.0, 0.0, 0.0, 0.0, 0.0, 0.0, 0.0, 0.0, 0.0, 0.0, 0.0, 0.0, 0.0, 0.0, 0.0, 0.0, 0.0, 0.0, 0.0, 0.0, 0.0, 0.0, 0.0, 0.0, 0.0, 0.0, 0.0, 0.0, 0.0, 0.0, 0.0, 0.0, 0.0, 0.0, 0.0, 0.0, 0.0, 0.0, 0.0, 0.0, 0.0, 0.0, 0.0, 0.0, 0.0, 0.0, 0.0, 0.0, 0.0, 0.0, 0.0, 0.0, 0.0, 0.0, 0.0, 0.0, 0.0, 0.0, 0.0, 0.0, 0.0, 0.0, 0.0, 0.0, 0.0, 0.0, 0.0, 0.0, 0.0, 0.0, 0.0, 0.0, 0.0, 0.0, 0.0, 0.0, 0.0, 0.0, 0.0, 0.0, 0.0, 0.0, 0.0, 0.0, 0.0, 0.0, 0.0, 0.0, 0.0, 0.0, 0.0, 0.0, 0.0, 0.0, 0.0, 0.0, 0.0, 0.0, 0.0, 0.0, 0.0, 0.0, 0.0, 0.0, 0.0, 0.0, 0.0, 0.0, 0.0, 0.0, 0.0, 0.0, 0.0, 0.0, 0.0, 0.0, 0.0, 0.0, 0.0, 0.0, 0.0, 0.0, 0.0, 0.0, 0.0, 0.0, 0.0, 0.0, 0.0, 0.0, 0.0, 0.0, 0.0, 0.0, 0.0, 0.0, 0.0, 0.0, 0.0, 0.0, 0.0, 0.0, 0.0, 0.0, 0.0, 0.0, 0.0, 0.0, 0.0, 0.0, 0.0, 0.0, 0.0, 0.0, 0.0, 0.0, 0.0, 0.0, 0.0, 0.0, 0.0, 0.0, 0.0, 0.0, 0.0, 0.0, 0.0, 0.0, 0.0, 0.0, 0.0, 0.0, 0.0, 0.0, 0.0, 0.0, 0.0, 0.0, 0.0, 0.0, 0.0, 0.0, 0.0, 0.0, 0.0]\n"
     ]
    },
    {
     "name": "stdout",
     "output_type": "stream",
     "text": [
      "[0.0, 0.0003977509351560059, 5.379338478074046e-05, 2.0639461674960235e-05, 1.0631254640657044e-05, 1.0627736573792077e-05, 3.7523449713138586e-06, 2.5003918470769885e-06, 3.1269536135868075e-06, 6.257812503056529e-07, 6.261723635866165e-07, 4.882813454270735e-13, 1.2503908691406252e-06, 6.253908692934037e-07, 6.250002441407204e-07, 6.257812501529696e-07, 6.2578173828125e-07, 1.2503908694458963e-06, 6.25000000152588e-07, 2.441406250000373e-13, 9.542711079120635e-20, 6.250002441407204e-07, 6.250002444458008e-07, 6.250000000000956e-07, 1.5277874477207658e-16, 6.25e-07, 1.455192091271096e-32, 6.253908692932129e-07, 9.542707353830337e-20, 2.4414072042707357e-13, 3.9062500000000003e-10, 3.725291753653437e-26, 5.684341886080802e-39, 3.9086914062500005e-10, 9.54270362854004e-20, 4.882812499999999e-13, 6.25e-07, 1.3877793232213446e-48, 9.54270362854004e-20, 6.25390869140625e-07, 5.684341886080802e-39, 2.3297616280615332e-29, 6.25e-07, 2.2204460492503133e-45, 1.5258789062500002e-16, 3.3881317890172016e-58, 3.9062515258789057e-10, 1.526833176612854e-16, 6.25e-07, 3.5527136796678625e-42, 4.235164736271502e-61, 3.2311742677857575e-74, 3.552713678800501e-42, 2.117582368135751e-61, 1.751623080406022e-125, 3.0517578125000003e-16, 8.271806125530277e-68, 9.094947017729283e-36, 4.701977403289152e-103, 2.0194839173657905e-77, 2.2204460492503133e-45, 1.8367099231598246e-109, 9.495567745759805e-177, 1.198509146801204e-253, 8.271806125530277e-68, 2.4414062499999996e-13, 2.0880974297595287e-144, 2.3283064365386962e-29, 1.3177747429038167e-221, 0.0, 0.0, 0.0, 1.74406035046734e-282, 8.673617379884036e-52, 3.0681846143202257e-247, 0.0, 8.236092143148854e-225, 2.790496560747744e-279, 2.5489470578119247e-154, 3.7252902984619143e-26, 0.0, 0.0, 3.3881317890172016e-58, 0.0, 0.0, 1.4489086526122748e-189, 1.751623080406022e-125, 5.934729841099878e-180, 1.9176146348819262e-250, 0.0, 3.7092061506874237e-183, 0.0, 0.0, 1.2037062152420227e-96, 0.0, 0.0, 0.0, 0.0, 0.0, 9.094947017729283e-36, 0.0, 0.0, 0.0, 0.0, 0.0, 0.0, 0.0, 0.0, 2.802596928649635e-122, 0.0, 4.484155085839416e-119, 1.4551915228366853e-32, 3.889384548663216e-167, 0.0, 0.0, 0.0, 3.9062500000000003e-10, 0.0, 0.0, 0.0, 0.0, 0.0, 0.0, 0.0, 0.0, 0.0, 8.636168555094452e-209, 0.0, 1.0395409765644908e-301, 5.169878828456424e-71, 0.0, 0.0, 0.0, 0.0, 0.0, 1.9259299443872363e-93, 0.0, 0.0, 0.0, 0.0, 0.0, 0.0, 0.0, 0.0, 0.0, 0.0, 0.0, 0.0, 0.0, 0.0, 1.586213648e-314, 0.0, 0.0, 0.0, 0.0, 0.0, 0.0, 0.0, 0.0, 0.0, 0.0, 0.0, 0.0, 0.0, 0.0, 0.0, 0.0, 0.0, 0.0, 0.0, 0.0, 0.0, 0.0, 0.0, 0.0, 0.0, 0.0, 0.0, 0.0, 0.0, 0.0, 0.0, 0.0, 0.0, 0.0, 0.0, 0.0, 0.0, 0.0, 0.0, 0.0, 0.0, 0.0, 0.0, 0.0, 0.0, 0.0, 0.0, 0.0, 0.0, 0.0, 0.0, 0.0, 0.0, 0.0, 0.0, 0.0, 0.0, 0.0, 0.0, 0.0, 0.0, 0.0, 0.0, 0.0, 0.0, 0.0, 0.0, 0.0, 0.0, 0.0, 0.0, 0.0, 0.0, 0.0, 0.0, 0.0, 0.0, 0.0, 0.0, 0.0, 0.0, 0.0, 0.0, 0.0, 0.0, 0.0, 0.0, 0.0, 0.0, 0.0, 0.0, 0.0, 0.0, 0.0, 0.0, 0.0, 0.0, 0.0, 0.0, 0.0, 0.0, 0.0, 0.0, 0.0, 0.0, 0.0, 0.0, 0.0, 0.0, 0.0, 0.0, 0.0, 0.0, 0.0, 0.0, 0.0, 0.0, 0.0, 0.0, 0.0, 0.0, 0.0, 0.0, 0.0, 0.0, 0.0, 0.0, 0.0, 0.0, 0.0, 0.0, 0.0, 0.0, 0.0, 0.0, 0.0, 0.0, 0.0, 0.0, 0.0, 0.0, 0.0, 0.0, 0.0, 0.0, 0.0, 0.0, 0.0, 0.0, 0.0, 0.0, 0.0, 0.0, 0.0, 0.0, 0.0, 0.0, 0.0, 0.0, 0.0, 0.0, 0.0, 0.0, 0.0, 0.0, 0.0, 0.0, 0.0, 0.0, 0.0, 0.0, 0.0, 0.0, 0.0, 0.0, 0.0, 0.0, 0.0, 0.0, 0.0, 0.0, 0.0, 0.0, 0.0, 0.0, 0.0, 0.0, 0.0, 0.0, 0.0, 0.0, 0.0, 0.0, 0.0, 0.0, 0.0, 0.0, 0.0, 0.0, 0.0, 0.0, 0.0, 0.0, 0.0, 0.0, 0.0, 0.0, 0.0, 0.0, 0.0, 0.0, 0.0, 0.0, 0.0, 0.0, 0.0, 0.0, 0.0, 0.0, 0.0, 0.0, 0.0, 0.0, 0.0, 0.0, 0.0, 0.0, 0.0, 0.0, 0.0, 0.0, 0.0, 0.0, 0.0, 0.0, 0.0, 0.0, 0.0, 0.0, 0.0, 0.0, 0.0, 0.0, 0.0, 0.0, 0.0, 0.0, 0.0, 0.0, 0.0, 0.0, 0.0, 0.0, 0.0, 0.0, 0.0, 0.0, 0.0, 0.0, 0.0, 0.0, 0.0, 0.0, 0.0, 0.0, 0.0, 0.0, 0.0, 0.0, 0.0, 0.0, 0.0, 0.0, 0.0, 0.0, 0.0, 0.0, 0.0, 0.0, 0.0, 0.0, 0.0, 0.0, 0.0, 0.0, 0.0, 0.0, 0.0, 0.0, 0.0, 0.0, 0.0, 0.0, 0.0, 0.0, 0.0, 0.0, 0.0, 0.0, 0.0, 0.0, 0.0, 0.0, 0.0, 0.0, 0.0, 0.0, 0.0, 0.0, 0.0, 0.0, 0.0, 0.0, 0.0, 0.0, 0.0, 0.0, 0.0, 0.0, 0.0, 0.0, 0.0, 0.0, 0.0, 0.0, 0.0, 0.0, 0.0, 0.0, 0.0, 0.0, 0.0, 0.0, 0.0, 0.0, 0.0, 0.0, 0.0, 0.0, 0.0, 0.0, 0.0, 0.0, 0.0, 0.0, 0.0, 0.0, 0.0, 0.0, 0.0, 0.0, 0.0, 0.0, 0.0, 0.0, 0.0, 0.0, 0.0, 0.0, 0.0, 0.0, 0.0, 0.0, 0.0, 0.0, 0.0, 0.0, 0.0, 0.0, 0.0, 0.0, 0.0, 0.0, 0.0, 0.0, 0.0, 0.0, 0.0, 0.0, 0.0, 0.0, 0.0, 0.0, 0.0, 0.0, 0.0, 0.0, 0.0, 0.0, 0.0, 0.0, 0.0, 0.0, 0.0, 0.0, 0.0, 0.0, 0.0, 0.0, 0.0, 0.0, 0.0, 0.0, 0.0, 0.0, 0.0, 0.0, 0.0, 0.0, 0.0, 0.0, 0.0, 0.0, 0.0, 0.0, 0.0, 0.0, 0.0, 0.0, 0.0, 0.0, 0.0, 0.0, 0.0, 0.0, 0.0, 0.0, 0.0, 0.0, 0.0, 0.0, 0.0, 0.0, 0.0, 0.0, 0.0, 0.0, 0.0, 0.0, 0.0, 0.0, 0.0, 0.0, 0.0, 0.0, 0.0, 0.0, 0.0, 0.0, 0.0, 0.0, 0.0, 0.0, 0.0, 0.0, 0.0, 0.0, 0.0, 0.0, 0.0, 0.0, 0.0, 0.0, 0.0, 0.0, 0.0, 0.0, 0.0, 0.0, 0.0, 0.0, 0.0, 0.0, 0.0, 0.0, 0.0, 0.0, 0.0, 0.0, 0.0, 0.0, 0.0, 0.0, 0.0, 0.0, 0.0, 0.0, 0.0, 0.0, 0.0, 0.0, 0.0, 0.0, 0.0, 0.0, 0.0, 0.0, 0.0, 0.0, 0.0, 0.0, 0.0, 0.0, 0.0, 0.0, 0.0, 0.0, 0.0, 0.0, 0.0, 0.0, 0.0, 0.0, 0.0, 0.0, 0.0, 0.0, 0.0, 0.0, 0.0, 0.0, 0.0, 0.0, 0.0, 0.0, 0.0, 0.0, 0.0, 0.0, 0.0, 0.0, 0.0, 0.0, 0.0, 0.0, 0.0, 0.0, 0.0, 0.0, 0.0, 0.0, 0.0, 0.0, 0.0, 0.0, 0.0, 0.0, 0.0, 0.0, 0.0, 0.0, 0.0, 0.0, 0.0, 0.0, 0.0, 0.0, 0.0, 0.0, 0.0, 0.0, 0.0, 0.0, 0.0, 0.0, 0.0, 0.0, 0.0, 0.0, 0.0, 0.0, 0.0, 0.0, 0.0, 0.0, 0.0, 0.0, 0.0, 0.0, 0.0, 0.0, 0.0, 0.0, 0.0, 0.0, 0.0, 0.0, 0.0, 0.0, 0.0, 0.0, 0.0, 0.0, 0.0, 0.0, 0.0, 0.0, 0.0, 0.0, 0.0, 0.0, 0.0, 0.0, 0.0, 0.0, 0.0, 0.0, 0.0, 0.0, 0.0, 0.0, 0.0, 0.0, 0.0, 0.0, 0.0, 0.0, 0.0, 0.0, 0.0, 0.0, 0.0, 0.0, 0.0, 0.0, 0.0, 0.0, 0.0, 0.0, 0.0, 0.0, 0.0, 0.0, 0.0, 0.0, 0.0, 0.0, 0.0, 0.0, 0.0, 0.0, 0.0, 0.0, 0.0, 0.0, 0.0, 0.0, 0.0, 0.0, 0.0, 0.0, 0.0, 0.0, 0.0, 0.0, 0.0, 0.0, 0.0, 0.0, 0.0, 0.0, 0.0, 0.0, 0.0, 0.0, 0.0, 0.0, 0.0, 0.0, 0.0, 0.0, 0.0, 0.0, 0.0, 0.0, 0.0, 0.0, 0.0, 0.0, 0.0, 0.0, 0.0, 0.0, 0.0, 0.0, 0.0, 0.0, 0.0, 0.0, 0.0, 0.0, 0.0, 0.0, 0.0, 0.0, 0.0, 0.0, 0.0, 0.0, 0.0, 0.0, 0.0, 0.0, 0.0, 0.0, 0.0, 0.0, 0.0, 0.0, 0.0, 0.0, 0.0, 0.0, 0.0, 0.0, 0.0, 0.0, 0.0, 0.0, 0.0, 0.0, 0.0, 0.0, 0.0, 0.0, 0.0, 0.0, 0.0, 0.0, 0.0, 0.0, 0.0, 0.0, 0.0, 0.0, 0.0, 0.0, 0.0, 0.0, 0.0, 0.0, 0.0, 0.0, 0.0, 0.0, 0.0, 0.0, 0.0, 0.0, 0.0, 0.0, 0.0, 0.0, 0.0, 0.0, 0.0, 0.0, 0.0, 0.0, 0.0, 0.0, 0.0, 0.0, 0.0, 0.0, 0.0, 0.0, 0.0, 0.0, 0.0, 0.0, 0.0, 0.0, 0.0, 0.0, 0.0, 0.0, 0.0, 0.0, 0.0, 0.0, 0.0, 0.0, 0.0, 0.0, 0.0, 0.0, 0.0, 0.0, 0.0, 0.0, 0.0, 0.0, 0.0, 0.0, 0.0, 0.0, 0.0, 0.0, 0.0, 0.0, 0.0, 0.0, 0.0, 0.0, 0.0, 0.0, 0.0, 0.0, 0.0, 0.0, 0.0, 0.0, 0.0, 0.0, 0.0, 0.0, 0.0, 0.0, 0.0, 0.0, 0.0, 0.0, 0.0, 0.0, 0.0, 0.0, 0.0, 0.0, 0.0, 0.0, 0.0, 0.0, 0.0, 0.0, 0.0, 0.0, 0.0, 0.0, 0.0, 0.0, 0.0, 0.0, 0.0, 0.0, 0.0, 0.0, 0.0, 0.0, 0.0, 0.0, 0.0, 0.0, 0.0, 0.0, 0.0, 0.0, 0.0, 0.0, 0.0, 0.0, 0.0, 0.0, 0.0, 0.0, 0.0, 0.0, 0.0, 0.0, 0.0, 0.0, 0.0, 0.0, 0.0, 0.0, 0.0, 0.0, 0.0, 0.0, 0.0, 0.0, 0.0, 0.0, 0.0, 0.0, 0.0, 0.0, 0.0, 0.0, 0.0, 0.0, 0.0, 0.0, 0.0, 0.0, 0.0, 0.0, 0.0, 0.0, 0.0, 0.0, 0.0, 0.0, 0.0, 0.0, 0.0, 0.0, 0.0, 0.0, 0.0, 0.0, 0.0, 0.0, 0.0, 0.0, 0.0, 0.0, 0.0, 0.0, 0.0, 0.0, 0.0, 0.0, 0.0, 0.0, 0.0, 0.0, 0.0, 0.0, 0.0, 0.0, 0.0, 0.0, 0.0, 0.0, 0.0, 0.0, 0.0, 0.0, 0.0, 0.0, 0.0, 0.0, 0.0, 0.0, 0.0, 0.0, 0.0, 0.0, 0.0, 0.0, 0.0, 0.0, 0.0, 0.0, 0.0, 0.0, 0.0, 0.0, 0.0, 0.0, 0.0, 0.0, 0.0, 0.0, 0.0, 0.0, 0.0, 0.0, 0.0, 0.0, 0.0, 0.0, 0.0, 0.0, 0.0, 0.0, 0.0, 0.0, 0.0, 0.0, 0.0, 0.0, 0.0, 0.0, 0.0, 0.0, 0.0, 0.0, 0.0, 0.0, 0.0, 0.0, 0.0, 0.0, 0.0, 0.0, 0.0, 0.0, 0.0, 0.0, 0.0, 0.0, 0.0, 0.0, 0.0, 0.0, 0.0, 0.0, 0.0, 0.0, 0.0, 0.0, 0.0, 0.0, 0.0, 0.0, 0.0, 0.0, 0.0, 0.0, 0.0, 0.0, 0.0, 0.0, 0.0, 0.0, 0.0, 0.0, 0.0, 0.0, 0.0, 0.0, 0.0, 0.0, 0.0, 0.0, 0.0, 0.0, 0.0, 0.0, 0.0, 0.0, 0.0, 0.0, 0.0, 0.0, 0.0, 0.0, 0.0, 0.0, 0.0, 0.0, 0.0, 0.0, 0.0, 0.0, 0.0, 0.0, 0.0, 0.0, 0.0, 0.0, 0.0, 0.0, 0.0, 0.0, 0.0, 0.0, 0.0, 0.0, 0.0, 0.0, 0.0, 0.0, 0.0, 0.0, 0.0, 0.0, 0.0, 0.0, 0.0, 0.0, 0.0, 0.0, 0.0, 0.0, 0.0, 0.0, 0.0, 0.0, 0.0, 0.0, 0.0, 0.0, 0.0, 0.0, 0.0, 0.0, 0.0, 0.0, 0.0, 0.0, 0.0, 0.0, 0.0, 0.0, 0.0, 0.0, 0.0, 0.0, 0.0, 0.0, 0.0, 0.0, 0.0, 0.0, 0.0, 0.0, 0.0, 0.0, 0.0, 0.0, 0.0, 0.0, 0.0, 0.0, 0.0, 0.0, 0.0, 0.0, 0.0, 0.0, 0.0, 0.0, 0.0, 0.0, 0.0, 0.0, 0.0, 0.0, 0.0, 0.0, 0.0, 0.0, 0.0, 0.0, 0.0, 0.0, 0.0, 0.0, 0.0, 0.0, 0.0, 0.0, 0.0, 0.0, 0.0, 0.0, 0.0, 0.0, 0.0, 0.0, 0.0, 0.0, 0.0, 0.0, 0.0, 0.0, 0.0, 0.0, 0.0, 0.0, 0.0, 0.0, 0.0, 0.0, 0.0, 0.0, 0.0, 0.0, 0.0, 0.0, 0.0, 0.0, 0.0, 0.0, 0.0, 0.0, 0.0, 0.0, 0.0, 0.0, 0.0, 0.0, 0.0, 0.0, 0.0, 0.0, 0.0, 0.0, 0.0, 0.0, 0.0, 0.0, 0.0, 0.0, 0.0, 0.0, 0.0, 0.0, 0.0, 0.0, 0.0, 0.0, 0.0, 0.0, 0.0, 0.0, 0.0, 0.0, 0.0, 0.0, 0.0, 0.0, 0.0, 0.0, 0.0, 0.0, 0.0, 0.0, 0.0, 0.0, 0.0, 0.0, 0.0, 0.0, 0.0, 0.0, 0.0, 0.0, 0.0, 0.0, 0.0, 0.0, 0.0, 0.0, 0.0, 0.0, 0.0, 0.0, 0.0, 0.0, 0.0, 0.0, 0.0, 0.0, 0.0, 0.0, 0.0, 0.0, 0.0, 0.0, 0.0, 0.0, 0.0, 0.0, 0.0, 0.0, 0.0, 0.0, 0.0, 0.0, 0.0, 0.0, 0.0, 0.0, 0.0, 0.0, 0.0, 0.0, 0.0, 0.0, 0.0, 0.0, 0.0, 0.0, 0.0, 0.0, 0.0, 0.0, 0.0, 0.0, 0.0, 0.0, 0.0, 0.0, 0.0, 0.0, 0.0, 0.0, 0.0, 0.0, 0.0, 0.0, 0.0, 0.0, 0.0, 0.0, 0.0, 0.0, 0.0, 0.0, 0.0, 0.0, 0.0, 0.0, 0.0, 0.0, 0.0, 0.0, 0.0, 0.0, 0.0, 0.0, 0.0, 0.0, 0.0, 0.0, 0.0, 0.0, 0.0, 0.0, 0.0, 0.0, 0.0, 0.0, 0.0, 0.0, 0.0, 0.0, 0.0, 0.0, 0.0, 0.0, 0.0, 0.0, 0.0, 0.0, 0.0, 0.0, 0.0, 0.0, 0.0, 0.0, 0.0, 0.0, 0.0, 0.0, 0.0, 0.0, 0.0, 0.0, 0.0, 0.0, 0.0, 0.0, 0.0, 0.0, 0.0, 0.0, 0.0, 0.0, 0.0, 0.0, 0.0, 0.0, 0.0, 0.0, 0.0, 0.0, 0.0, 0.0, 0.0, 0.0, 0.0, 0.0, 0.0, 0.0, 0.0, 0.0, 0.0, 0.0, 0.0, 0.0, 0.0, 0.0, 0.0, 0.0, 0.0, 0.0, 0.0, 0.0, 0.0, 0.0, 0.0, 0.0, 0.0, 0.0, 0.0, 0.0, 0.0, 0.0, 0.0, 0.0, 0.0, 0.0, 0.0, 0.0, 0.0, 0.0, 0.0, 0.0, 0.0, 0.0, 0.0, 0.0, 0.0, 0.0, 0.0, 0.0, 0.0, 0.0, 0.0, 0.0, 0.0, 0.0, 0.0, 0.0, 0.0, 0.0, 0.0, 0.0, 0.0, 0.0, 0.0, 0.0, 0.0, 0.0, 0.0]\n"
     ]
    },
    {
     "data": {
      "image/png": "[encoded data removed]",
      "text/plain": [
       "<matplotlib.figure.Figure at 0x7f1c0b6ec898>"
      ]
     },
     "metadata": {},
     "output_type": "display_data"
    }
   ],
   "source": [
    "from math import ceil\n",
    "\n",
    "NNodes = 1600\n",
    "philist = [0.001, 0.001]\n",
    "nplots = len(philist)\n",
    "fig, axs = plt.subplots(nrows=1, ncols=2, sharex='col', sharey='row', figsize=(10, 10))\n",
    "for i, phi in enumerate(philist):\n",
    "    histogram(i, axs, NNodes, phi)\n",
    "    \n",
    "#fig.title\n",
    "#fig.savefig('./hist_') \n",
    "plt.show()"
   ]
  },
  {
   "cell_type": "code",
   "execution_count": null,
   "metadata": {},
   "outputs": [],
   "source": [
    "def Manip_Results(NNodes, phi):\n",
    "    hist = [0] * NNodes/10\n",
    "    lines = []\n",
    "    lines = getIndex(NNodes, 2*NNodes, phi)\n",
    "    if (len(lines) == 0):\n",
    "        print(\"No Dataset found for %d, %d, %.3f\" %(NNodes, 2*NNodes, phi))\n",
    "        return\n",
    "    for i in range(len(lines)):\n",
    "        compvec=[NNodes] #empty array\n",
    "        compvec = getVector(lines[i],0) #getOpinionvector\n",
    "        compvec = compvec.values.tolist()[0] #get list from dataframe\n",
    "        compdic = Counter(compvec) #get Dict of type (opinion number) : size\n",
    "        app = list(compdic.values())\n",
    "        op = list(compdic.keys())\n",
    "        for i in range(len(op)):\n",
    "            hist[op[i]] += app[i] #add to histogram at position opinion(i) the number of nodes in the current graph that have this opinion\n",
    "    hist[:] = [x / len(lines) for x in hist] #average over number of datasets\n",
    "    axs = axs.flatten()\n",
    "    axs[ithplot].plot(hist, 'o')\n",
    "    return\n",
    "\n",
    "from math import ceil\n",
    "\n",
    "philist = [0.250, 0.999]\n",
    "nplots = len(philist)\n",
    "nrow = ceil(float(nplots/3))\n",
    "fig, axs = plt.subplots(nrows=nrow, ncols=3, sharex='col', sharey='row', figsize=(10, 10))\n",
    "for i, phi in enumerate(philist):\n",
    "    print(phi)\n",
    "    Manip_Results()\n",
    "plt.show()"
   ]
  }
 ],
 "metadata": {
  "kernelspec": {
   "display_name": "Python 3",
   "language": "python",
   "name": "python3"
  },
  "language_info": {
   "codemirror_mode": {
    "name": "ipython",
    "version": 3
   },
   "file_extension": ".py",
   "mimetype": "text/x-python",
   "name": "python",
   "nbconvert_exporter": "python",
   "pygments_lexer": "ipython3",
   "version": "3.5.2"
  }
 },
 "nbformat": 4,
 "nbformat_minor": 2
}

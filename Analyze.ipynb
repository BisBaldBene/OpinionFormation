{
 "cells": [
  {
   "cell_type": "markdown",
   "metadata": {},
   "source": [
    "Zieht sich die Parameterwerte aller Durchläufe in einen pandas dataframe"
   ]
  },
  {
   "cell_type": "code",
   "execution_count": 1,
   "metadata": {},
   "outputs": [],
   "source": [
    "import pandas as pd\n",
    "import glob\n",
    "\n",
    "path =r'./data' # use your path\n",
    "allFiles = glob.glob(path + \"/*.txt\")\n",
    "frame = pd.DataFrame()\n",
    "\n",
    "#will be converted to dataframe\n",
    "list_ = []\n",
    "\n",
    "#dict of style index in frame : (filename, index in file)\n",
    "findfile = {}\n",
    "\n",
    "#index for rows in frame\n",
    "curr_row = 0\n",
    "for file_ in allFiles:\n",
    "    orig_ind = 0\n",
    "    n = 3\n",
    "    num_lines = sum(1 for l in open(file_))\n",
    "    skip_idx = [x for x in range(1, num_lines) if x % n != 0]\n",
    "    df = pd.read_csv(file_,index_col=None, skiprows=skip_idx, header = None)\n",
    "    list_.append(df)\n",
    "    for i in range(curr_row, curr_row+len(df.index)):\n",
    "        findfile[i] = (file_, orig_ind)\n",
    "        orig_ind += 1\n",
    "    curr_row +=len(df.index)\n",
    "frame = pd.concat(list_, ignore_index=True)\n"
   ]
  },
  {
   "cell_type": "markdown",
   "metadata": {},
   "source": [
    "Funktion die für gegebenes NNodes, NEdges, phi den Index im Datenframe (der Parameterwerte) ausgibt"
   ]
  },
  {
   "cell_type": "code",
   "execution_count": 2,
   "metadata": {},
   "outputs": [],
   "source": [
    "def getIndex(NNodes, NEdges, phi):\n",
    "    lines = []\n",
    "    for j in range(frame.shape[0]): #all rows\n",
    "        getstr = frame[0][j]\n",
    "        #print([int(s) for s in getstr.split() if s.isdigit()])\n",
    "        if ([int(s) for s in getstr.split() if s.isdigit()][0] == NNodes):\n",
    "            getstr = frame[1][j]\n",
    "            if ([int(s) for s in getstr.split() if s.isdigit()][0] == NEdges):\n",
    "                getstr = frame[2][j]\n",
    "                if ([int(s) for s in getstr.split() if s.isdigit()][0] == phi):\n",
    "                    lines.append(j)\n",
    "    return lines"
   ]
  },
  {
   "cell_type": "markdown",
   "metadata": {},
   "source": [
    "Funktion die für gegebenen Index des Dataframes (der Parameterwerte) den Meinungsvektor (OporComp = 0) oder den Komponentenvektor (OporComp = 1) aus der jeweiligen Datei liest"
   ]
  },
  {
   "cell_type": "code",
   "execution_count": 3,
   "metadata": {},
   "outputs": [],
   "source": [
    "#OporComp = 0 for OpinionVector, 1 for ConnectedComponents\n",
    "def getVector(frameIndex, OporComp):\n",
    "    filename = (findfile[frameIndex])[0]\n",
    "    fileindex = (findfile[frameIndex])[1]\n",
    "    fileline = (fileindex*3)+1\n",
    "    OpinionVector = pd.read_csv(filename, skiprows = fileline+OporComp, nrows = 1, header=None, delim_whitespace = True)\n",
    "    return OpinionVector"
   ]
  },
  {
   "cell_type": "markdown",
   "metadata": {},
   "source": [
    "Funktion die für gegebenes NNodes, NEdges, phi einen Matplotlib subplot eines Plot der Größe x * y an index z erstellt"
   ]
  },
  {
   "cell_type": "code",
   "execution_count": 17,
   "metadata": {},
   "outputs": [],
   "source": [
    "from collections import Counter\n",
    "import matplotlib.pyplot as plt\n",
    "\n",
    "#ComponentSizes dependent on Phi\n",
    "def histogram(ithplot, axs, NNodes, NEdges, phi):\n",
    "    hist = [0] * NNodes\n",
    "    lines = []\n",
    "    lines = getIndex(NNodes, NEdges, phi)\n",
    "    if (len(lines) == 0):\n",
    "        print(\"No Dataset found for %d, %d, %d\" %(NNodes, NEdges, phi))\n",
    "        return\n",
    "    for i in range(len(lines)):\n",
    "        compvec=[NNodes] #empty array\n",
    "        compvec = getVector(lines[i],1) #getComponentsizevector\n",
    "        compvec = compvec.values.tolist()[0] #get list from dataframe\n",
    "        compdic = Counter(compvec) #get Dict of type (compent number) : size\n",
    "        comps = list(compdic.values()) #get list of size values\n",
    "        for i in range(len(comps)):\n",
    "            hist[comps[i]-1] +=1 #-1 because comps may have size 1 and 3200 not 0 and 3199\n",
    "    hist[:] = [x / len(lines) for x in hist] #average over number of datasets\n",
    "    #plt.subplot(x, y, z)\n",
    "    #plt.loglog(hist, 'o')\n",
    "    #ptitle = \"Histogram N:\" + str(NNodes) + \" M:\" +str(NEdges) +\"Phi: \" +str(float(phi)/100) + \" averaged over \" + str(len(lines))\n",
    "    #plt.title(ptitle)\n",
    "    #plt.xlabel(\"Component Size\")\n",
    "    #plt.ylabel(\"Appearance\")\n",
    "    axs = axs,flatten()\n",
    "    axs[ithplot].plot(hist, 'o')\n",
    "\n",
    "                "
   ]
  },
  {
   "cell_type": "code",
   "execution_count": 18,
   "metadata": {
    "scrolled": false
   },
   "outputs": [
    {
     "ename": "NameError",
     "evalue": "name 'flatten' is not defined",
     "output_type": "error",
     "traceback": [
      "\u001b[0;31m---------------------------------------------------------------------------\u001b[0m",
      "\u001b[0;31mNameError\u001b[0m                                 Traceback (most recent call last)",
      "\u001b[0;32m<ipython-input-18-a3bdc70b439d>\u001b[0m in \u001b[0;36m<module>\u001b[0;34m()\u001b[0m\n\u001b[1;32m     13\u001b[0m \u001b[0mfig\u001b[0m\u001b[0;34m,\u001b[0m \u001b[0maxs\u001b[0m \u001b[0;34m=\u001b[0m \u001b[0mplt\u001b[0m\u001b[0;34m.\u001b[0m\u001b[0msubplots\u001b[0m\u001b[0;34m(\u001b[0m\u001b[0mnrows\u001b[0m\u001b[0;34m=\u001b[0m\u001b[0mnrow\u001b[0m\u001b[0;34m,\u001b[0m \u001b[0mncols\u001b[0m\u001b[0;34m=\u001b[0m\u001b[0;36m3\u001b[0m\u001b[0;34m,\u001b[0m \u001b[0msharex\u001b[0m\u001b[0;34m=\u001b[0m\u001b[0;34m'col'\u001b[0m\u001b[0;34m,\u001b[0m \u001b[0msharey\u001b[0m\u001b[0;34m=\u001b[0m\u001b[0;34m'row'\u001b[0m\u001b[0;34m,\u001b[0m \u001b[0mfigsize\u001b[0m\u001b[0;34m=\u001b[0m\u001b[0;34m(\u001b[0m\u001b[0;36m10\u001b[0m\u001b[0;34m,\u001b[0m \u001b[0;36m40\u001b[0m\u001b[0;34m)\u001b[0m\u001b[0;34m)\u001b[0m\u001b[0;34m\u001b[0m\u001b[0m\n\u001b[1;32m     14\u001b[0m \u001b[0;32mfor\u001b[0m \u001b[0mi\u001b[0m\u001b[0;34m,\u001b[0m \u001b[0malpha\u001b[0m \u001b[0;32min\u001b[0m \u001b[0menumerate\u001b[0m\u001b[0;34m(\u001b[0m\u001b[0mphilist\u001b[0m\u001b[0;34m)\u001b[0m\u001b[0;34m:\u001b[0m\u001b[0;34m\u001b[0m\u001b[0m\n\u001b[0;32m---> 15\u001b[0;31m     \u001b[0mhistogram\u001b[0m\u001b[0;34m(\u001b[0m\u001b[0mi\u001b[0m\u001b[0;34m,\u001b[0m \u001b[0maxs\u001b[0m\u001b[0;34m,\u001b[0m \u001b[0;36m200\u001b[0m\u001b[0;34m,\u001b[0m \u001b[0;36m400\u001b[0m\u001b[0;34m,\u001b[0m \u001b[0mphi\u001b[0m\u001b[0;34m)\u001b[0m\u001b[0;34m\u001b[0m\u001b[0m\n\u001b[0m\u001b[1;32m     16\u001b[0m \u001b[0mplt\u001b[0m\u001b[0;34m.\u001b[0m\u001b[0mshow\u001b[0m\u001b[0;34m(\u001b[0m\u001b[0;34m)\u001b[0m\u001b[0;34m\u001b[0m\u001b[0m\n",
      "\u001b[0;32m<ipython-input-17-c46c64b29568>\u001b[0m in \u001b[0;36mhistogram\u001b[0;34m(ithplot, axs, NNodes, NEdges, phi)\u001b[0m\n\u001b[1;32m     25\u001b[0m     \u001b[0;31m#plt.xlabel(\"Component Size\")\u001b[0m\u001b[0;34m\u001b[0m\u001b[0;34m\u001b[0m\u001b[0m\n\u001b[1;32m     26\u001b[0m     \u001b[0;31m#plt.ylabel(\"Appearance\")\u001b[0m\u001b[0;34m\u001b[0m\u001b[0;34m\u001b[0m\u001b[0m\n\u001b[0;32m---> 27\u001b[0;31m     \u001b[0maxs\u001b[0m \u001b[0;34m=\u001b[0m \u001b[0maxs\u001b[0m\u001b[0;34m,\u001b[0m\u001b[0mflatten\u001b[0m\u001b[0;34m(\u001b[0m\u001b[0;34m)\u001b[0m\u001b[0;34m\u001b[0m\u001b[0m\n\u001b[0m\u001b[1;32m     28\u001b[0m     \u001b[0maxs\u001b[0m\u001b[0;34m[\u001b[0m\u001b[0mithplot\u001b[0m\u001b[0;34m]\u001b[0m\u001b[0;34m.\u001b[0m\u001b[0mplot\u001b[0m\u001b[0;34m(\u001b[0m\u001b[0mhist\u001b[0m\u001b[0;34m,\u001b[0m \u001b[0;34m'o'\u001b[0m\u001b[0;34m)\u001b[0m\u001b[0;34m\u001b[0m\u001b[0m\n\u001b[1;32m     29\u001b[0m \u001b[0;34m\u001b[0m\u001b[0m\n",
      "\u001b[0;31mNameError\u001b[0m: name 'flatten' is not defined"
     ]
    }
   ],
   "source": [
    "from math import ceil\n",
    "#philist = [0, 20, 40, 60, 80, 100]\n",
    "#plt.figure(figsize=(60, 30))\n",
    "#for index, phi in enumerate(philist):\n",
    "#    histogram(200, 400, phi, 2, len(philist)/2, index+1)\n",
    "\n",
    "#plt.show()\n",
    "\n",
    "\n",
    "philist = [0, 20, 40, 60, 80, 100]\n",
    "nplots = len(philist)\n",
    "nrow = ceil(float(nplots/3))\n",
    "fig, axs = plt.subplots(nrows=nrow, ncols=3, sharex='col', sharey='row', figsize=(10, 40))\n",
    "for i, alpha in enumerate(philist):\n",
    "    histogram(i, axs, 200, 400, phi)\n",
    "plt.show()"
   ]
  },
  {
   "cell_type": "markdown",
   "metadata": {},
   "source": []
  }
 ],
 "metadata": {
  "kernelspec": {
   "display_name": "Python 3",
   "language": "python",
   "name": "python3"
  },
  "language_info": {
   "codemirror_mode": {
    "name": "ipython",
    "version": 3
   },
   "file_extension": ".py",
   "mimetype": "text/x-python",
   "name": "python",
   "nbconvert_exporter": "python",
   "pygments_lexer": "ipython3",
   "version": "3.5.2"
  }
 },
 "nbformat": 4,
 "nbformat_minor": 2
}

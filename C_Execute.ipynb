{
 "cells": [
  {
   "cell_type": "markdown",
   "metadata": {},
   "source": [
    "Calls C program with parameters that are given in the arrays"
   ]
  },
  {
   "cell_type": "code",
   "execution_count": 80,
   "metadata": {},
   "outputs": [],
   "source": [
    "from subprocess import call, check_output\n",
    "import subprocess\n",
    "import numpy as np\n",
    "\n",
    "NNodes = [3200]\n",
    "NEdges = [6400]\n",
    "NOpinions = [320]\n",
    "Phi100 = list(np.arange(0, 101, 1))\n",
    "MAX_ITER = [100000000000]\n",
    "ITER_step = [1000]\n",
    "filename = \"data1\"\n",
    "red = 1000\n",
    "\n",
    "#for i in range(red):\n",
    "#    for NN in NNodes:\n",
    "#        for NE in NEdges:\n",
    "#            for NO in NOpinions:\n",
    "#                for Phi in Phi100:\n",
    "#                    for M_ITER in MAX_ITER:\n",
    "#                        for step in ITER_step:\n",
    "#                            print(i)\n",
    "#                            print(check_output([\"./a.out\", str(NN), str(NE), str(NO), str(Phi), str(M_ITER), str(step), filename]))"
   ]
  },
  {
   "cell_type": "markdown",
   "metadata": {},
   "source": [
    "Now with multiprocessing:"
   ]
  },
  {
   "cell_type": "code",
   "execution_count": null,
   "metadata": {},
   "outputs": [
    {
     "name": "stdout",
     "output_type": "stream",
     "text": [
      "(3200, 6400, 320, 0, 100000000000, 1000)\n"
     ]
    }
   ],
   "source": [
    "from multiprocessing import Pool\n",
    "from multiprocessing.dummy import Pool as ThreadPool\n",
    "import multiprocessing\n",
    "import itertools\n",
    "\n",
    "\n",
    "results2 = []\n",
    "#As above just with a filename dependent on the worker to avoid corruptions. Will create a file for each thread\n",
    "def RunCProgram(NN, NE, NO, phi, M_Iter, step):\n",
    "    filename =\"multitest\"\n",
    "    #print(multiprocessing.current_process()._identity)\n",
    "    filename = filename + str( multiprocessing.current_process()._identity[0])\n",
    "    #print(filename)\n",
    "    if M_Iter < step:\n",
    "        print(M_Iter, step)\n",
    "    for x in range(1000):\n",
    "        try:\n",
    "            check_output([\"./a.out\", str(NN), str(NE), str(NO), str(phi), str(M_Iter), str(step), filename])\n",
    "        except subprocess.CalledProcessError as e:\n",
    "            raise RuntimeError(\"command '{}' return with error (code {}): {}\".format(e.cmd, e.returncode, e.output))\n",
    "    return\n",
    "\n",
    "\n",
    "\n",
    "\n",
    "\n",
    "if __name__ == '__main__':\n",
    "    NThreads = multiprocessing.cpu_count() - 1\n",
    "    param = []\n",
    "    param.append(NNodes)\n",
    "    param.append(NEdges)\n",
    "    param.append(NOpinions)\n",
    "    param.append(Phi100)\n",
    "    param.append(MAX_ITER)\n",
    "    param.append(ITER_step)\n",
    "    InputArray = list(itertools.product(*param))\n",
    "    print(InputArray[0])\n",
    "    with Pool(processes=NThreads) as pool:         # start 4 worker processes\n",
    "        pool.starmap(RunCProgram, InputArray)       # prints \"[0, 1, 4,..., 81]\""
   ]
  },
  {
   "cell_type": "code",
   "execution_count": 10,
   "metadata": {},
   "outputs": [
    {
     "name": "stdout",
     "output_type": "stream",
     "text": [
      "[2, 2, 2, 2, 2, 2, 2, 2, 2, 2, 2]\n"
     ]
    }
   ],
   "source": []
  },
  {
   "cell_type": "raw",
   "metadata": {},
   "source": []
  },
  {
   "cell_type": "code",
   "execution_count": null,
   "metadata": {},
   "outputs": [],
   "source": []
  }
 ],
 "metadata": {
  "kernelspec": {
   "display_name": "Python 3",
   "language": "python",
   "name": "python3"
  },
  "language_info": {
   "codemirror_mode": {
    "name": "ipython",
    "version": 3
   },
   "file_extension": ".py",
   "mimetype": "text/x-python",
   "name": "python",
   "nbconvert_exporter": "python",
   "pygments_lexer": "ipython3",
   "version": "3.5.2"
  }
 },
 "nbformat": 4,
 "nbformat_minor": 2
}

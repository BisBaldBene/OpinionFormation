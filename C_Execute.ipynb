{
 "cells": [
  {
   "cell_type": "markdown",
   "metadata": {},
   "source": [
    "Calls C program with parameters that are given in the arrays"
   ]
  },
  {
   "cell_type": "code",
   "execution_count": 18,
   "metadata": {},
   "outputs": [],
   "source": [
    "from subprocess import call, check_output\n",
    "import numpy as np\n",
    "\n",
    "NNodes = [32]\n",
    "NEdges = [64, 48, 32]\n",
    "NOpinions = [1, 10, 20, 30]\n",
    "Phi100 = np.arange(0, 99, 2)\n",
    "MAX_ITER = [100000000000]\n",
    "ITER_step = [10]\n",
    "filename = \"test3\"\n",
    "\n",
    "for NN in NNodes:\n",
    "    for NE in NEdges:\n",
    "        for NO in NOpinions:\n",
    "            for Phi in Phi100:\n",
    "                for M_ITER in MAX_ITER:\n",
    "                    for step in ITER_step:\n",
    "                        print(check_output([\"./a.out\", str(NN), str(NE), str(NO), str(Phi), str(M_ITER), str(step), filename]))\n",
    "                       "
   ]
  },
  {
   "cell_type": "markdown",
   "metadata": {},
   "source": [
    "Now with multiprocessing:"
   ]
  },
  {
   "cell_type": "code",
   "execution_count": 23,
   "metadata": {},
   "outputs": [
    {
     "name": "stdout",
     "output_type": "stream",
     "text": [
      "<map object at 0x7ff7a006e780>\n"
     ]
    }
   ],
   "source": [
    "from multiprocessing import Pool\n",
    "from multiprocessing.dummy import Pool as ThreadPool\n",
    "import itertools\n",
    "\n",
    "filename = \"test3\"\n",
    "\n",
    "#As above just with a filename dependent on the worker to avoid corruptions. Will create a file for each thread\n",
    "def RunCProgram(NN, NE, NO, phi, M_Iter, step):\n",
    "    print(\"test\")\n",
    "    filename = filename + str( multiprocessing.current_process().name)\n",
    "    print(check_output([\"./a.out\", str(NN), str(NE), str(NO), str(Phi), str(M_ITER), str(step), filename]))\n",
    "\n",
    "NThreads = 3\n",
    "#Create Threadpool for NThreads Threads\n",
    "pool = ThreadPool(NThreads)\n",
    "\n",
    "param = []\n",
    "param.append(NNodes)\n",
    "param.append(NEdges)\n",
    "param.append(NOpinions)\n",
    "param.append(Phi100)\n",
    "param.append(MAX_ITER)\n",
    "param.append(ITER_step)\n",
    "\n",
    "InputArray = list(itertools.product(*param))\n",
    "\n",
    "results = map(RunCProgram, InputArray)\n",
    "\n",
    "pool.close()\n",
    "pool.join()\n",
    "print(results)\n"
   ]
  },
  {
   "cell_type": "code",
   "execution_count": null,
   "metadata": {},
   "outputs": [],
   "source": []
  }
 ],
 "metadata": {
  "kernelspec": {
   "display_name": "Python 3",
   "language": "python",
   "name": "python3"
  },
  "language_info": {
   "codemirror_mode": {
    "name": "ipython",
    "version": 3
   },
   "file_extension": ".py",
   "mimetype": "text/x-python",
   "name": "python",
   "nbconvert_exporter": "python",
   "pygments_lexer": "ipython3",
   "version": "3.5.2"
  }
 },
 "nbformat": 4,
 "nbformat_minor": 2
}

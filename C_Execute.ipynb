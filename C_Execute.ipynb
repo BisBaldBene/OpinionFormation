{
 "cells": [
  {
   "cell_type": "markdown",
   "metadata": {},
   "source": [
    "Calls C program with parameters that are given in the arrays"
   ]
  },
  {
   "cell_type": "code",
   "execution_count": 10,
   "metadata": {},
   "outputs": [],
   "source": [
    "from subprocess import call, check_output\n",
    "import subprocess\n",
    "import numpy as np\n",
    "\n",
    "NNodes = [1600,800,400,200]\n",
    "phifloat = list(np.linspace(0.001, 1, num=500))\n",
    "MAX_ITER = [100000000]\n",
    "ITER_step = [500]\n",
    "filename = \"NewData\"\n",
    "redundancy = 1000"
   ]
  },
  {
   "cell_type": "markdown",
   "metadata": {},
   "source": [
    "Now with multiprocessing:"
   ]
  },
  {
   "cell_type": "code",
   "execution_count": null,
   "metadata": {},
   "outputs": [],
   "source": [
    "from multiprocessing import Pool\n",
    "from multiprocessing.dummy import Pool as ThreadPool\n",
    "import multiprocessing\n",
    "import itertools\n",
    "\n",
    "\n",
    "results2 = []\n",
    "#As above just with a filename dependent on the worker to avoid corruptions. Will create a file for each thread\n",
    "def RunCProgram(NN, phi, M_Iter, step):\n",
    "    global filename\n",
    "    filename = filename + str( multiprocessing.current_process()._identity[0])\n",
    "    for x in range(redundancy):\n",
    "        try:\n",
    "            check_output([\"./a.out\", str(NN), str(NN/2), str(NN/10), str(phi), str(M_Iter), str(step), filename, str(0), str(0), str(0)])\n",
    "        except subprocess.CalledProcessError as e:\n",
    "            raise RuntimeError(\"command '{}' return with error (code {}): {}\".format(e.cmd, e.returncode, e.output))\n",
    "    return\n",
    "\n",
    "\n",
    "if __name__ == '__main__':\n",
    "    NThreads = multiprocessing.cpu_count() \n",
    "    param = []\n",
    "    param.append(NNodes)\n",
    "    param.append(phifloat)\n",
    "    param.append(MAX_ITER)\n",
    "    param.append(ITER_step)\n",
    "    InputArray = list(itertools.product(*param))\n",
    "    comb = len(InputArray)*redundancy\n",
    "    with Pool(processes=NThreads) as pool:         # start 4 worker processes\n",
    "        pool.starmap(RunCProgram, InputArray)       # prints \"[0, 1, 4,..., 81]\""
   ]
  },
  {
   "cell_type": "raw",
   "metadata": {},
   "source": []
  },
  {
   "cell_type": "code",
   "execution_count": null,
   "metadata": {},
   "outputs": [],
   "source": []
  }
 ],
 "metadata": {
  "kernelspec": {
   "display_name": "Python 3",
   "language": "python",
   "name": "python3"
  },
  "language_info": {
   "codemirror_mode": {
    "name": "ipython",
    "version": 3
   },
   "file_extension": ".py",
   "mimetype": "text/x-python",
   "name": "python",
   "nbconvert_exporter": "python",
   "pygments_lexer": "ipython3",
   "version": "3.5.2"
  }
 },
 "nbformat": 4,
 "nbformat_minor": 2
}
